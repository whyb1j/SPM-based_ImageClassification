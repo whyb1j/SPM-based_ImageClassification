{
 "cells": [
  {
   "cell_type": "markdown",
   "metadata": {},
   "source": [
    "# 任务描述\n",
    "编写一个图像分类系统，能够对输入图像进行类别预测。具体的说，利用数据库的2250张训练样本进行训练；对测试集中的2235张样本进行预测。\n",
    "## 一、图像处理模块\n",
    "### 1.提取SIFT特征"
   ]
  },
  {
   "cell_type": "code",
   "execution_count": 1,
   "metadata": {},
   "outputs": [],
   "source": [
    "import os\n",
    "import cv2\n",
    "import numpy as np\n",
    "from sklearn.cluster import MiniBatchKMeans\n",
    "import matplotlib.pyplot as plt\n",
    "from argparse import Namespace \n",
    "class ImageProcess():\n",
    "    \"\"\"储存图像的相关信息image,label,并对图像做SIFT特征提取\n",
    "\n",
    "    图像必须是灰度图\n",
    "\n",
    "    Attributes: \n",
    "        image: 灰度图\n",
    "        label: 图片的种类标签\n",
    "        keypoints: 图片的所有特征点\n",
    "        descriptors 图片的每个特征点所对应的向量 [len(keypoints),128]\n",
    "    \"\"\"\n",
    "    def __init__(self, image: np.ndarray ,label: int) -> None:\n",
    "        \"\"\"初始化\n",
    "        \"\"\"\n",
    "        if len(image.shape) == 3:    \n",
    "            self.image = cv2.cvtColor(image, cv2.COLOR_BGR2GRAY)\n",
    "        else:\n",
    "            self.image = image\n",
    "        self.label=label\n",
    "    def SIFT(self):\n",
    "        '''提取图片的SIFT特征点,并对特征点向量归一化\n",
    "        '''\n",
    "        #Here kp will be a list of keypoints and des is a numpy array of shape [number of kp, 128]\n",
    "        keypoints, descriptors = cv2.SIFT_create().detectAndCompute(self.image,None)\n",
    "        norm = np.linalg.norm(descriptors,axis=1)\n",
    "        # print(norm.shape) >>(257,)\n",
    "        norm=norm[:,np.newaxis]\n",
    "        descriptors /= norm\n",
    "        self.keypoints=keypoints\n",
    "        self.descriptors=descriptors\n",
    "\n",
    "    def draw(self):\n",
    "        '''绘制特征点\n",
    "        '''\n",
    "        img=cv2.drawKeypoints(self.image,self.keypoints,self.image,flags=cv2.DRAW_MATCHES_FLAGS_DRAW_RICH_KEYPOINTS)\n",
    "        # cv2.imwrite('sift_keypoints.jpg',img)\n",
    "        img_rgb = cv2.cvtColor(img, cv2.COLOR_BGR2RGB)\n",
    "        # 使用 matplotlib 显示图像\n",
    "        plt.imshow(img_rgb)\n",
    "        plt.axis('off')\n",
    "        plt.show()\n"
   ]
  },
  {
   "cell_type": "markdown",
   "metadata": {},
   "source": [
    "### 2.加载数据集，并提取出SIFT特征点"
   ]
  },
  {
   "cell_type": "code",
   "execution_count": 2,
   "metadata": {},
   "outputs": [],
   "source": [
    "def load_data(config) -> list:\n",
    "    \"\"\"加载数据\n",
    "    \n",
    "    划分训练集和测试集,计算每个集合中图片的特征。\n",
    "    保存训练集的特征向量，用于生成词袋。\n",
    "    \"\"\"\n",
    "    train_image=[]\n",
    "    test_image=[]\n",
    "    feature_set = np.float32([]).reshape(0, 128)\n",
    "    print(\"---计算每张图片的SIFT特征点---\")\n",
    "    for root,dir,files in os.walk(config.image_dir):\n",
    "        if files:\n",
    "            #文件名称按照\"1.jpg\"\"2.jpg\"排序，原读取顺序为\"1.jpg\"\"10.jpg\"\n",
    "            files=sorted(files,key=lambda x:int(x.split('.')[0]))\n",
    "            label=int(root.split('\\\\')[-1])\n",
    "            for i,file in enumerate(files):\n",
    "                path=os.path.join(root,file)\n",
    "                # print(path)\n",
    "                image=cv2.imread(path,0)\n",
    "                extractor=ImageProcess(image,label)\n",
    "                extractor.SIFT()\n",
    "                if i<150:\n",
    "                    train_image.append(extractor)\n",
    "                    if not os.path.exists(os.path.join(config.data_dir,'feature_set.npy')):\n",
    "                        feature_set = np.vstack([feature_set, extractor.descriptors]) \n",
    "                else:\n",
    "                    test_image.append(extractor)\n",
    "    if not os.path.exists(os.path.join(config.data_dir,'feature_set.npy')):\n",
    "        np.save(os.path.join(config.data_dir,'feature_set.npy'),feature_set)\n",
    "    # print(len(feature_set))\n",
    "    return train_image,test_image    #[ImageProcess]"
   ]
  },
  {
   "cell_type": "markdown",
   "metadata": {},
   "source": [
    "### 3.特征点聚类，生成词袋"
   ]
  },
  {
   "cell_type": "code",
   "execution_count": 3,
   "metadata": {},
   "outputs": [],
   "source": [
    "class Bow():\n",
    "    \"\"\"将n类特征点的中心点作为视觉词汇,生成词袋\n",
    "\n",
    "    Attributes:\n",
    "        numOfBag: 词袋大小\n",
    "        feature_set: 特征点集合\n",
    "    \"\"\"\n",
    "    def __init__(self, feature_set, numOfBag) -> None:\n",
    "        \"\"\"初始化\n",
    "        \"\"\"\n",
    "        self.numOfBag=numOfBag\n",
    "        self.feature_set=feature_set\n",
    "    def generateBoW(self,config) -> np.ndarray:\n",
    "        \"\"\"生成词袋，并保存到默认路径\n",
    "        \"\"\"\n",
    "        print(\"---生成词袋---\")\n",
    "        np.random.shuffle(self.feature_set)\n",
    "        kmeans = MiniBatchKMeans(n_clusters=self.numOfBag, random_state=42).fit(self.feature_set)\n",
    "        centers = kmeans.cluster_centers_\n",
    "        np.save(os.path.join(config.data_dir,f\"Bow_{self.numOfBag}.npy\"), centers)\n",
    "        return centers\n",
    "    def getBow(self,config):\n",
    "        \"\"\"读取指定路径的词袋模型文件\n",
    "        \"\"\"\n",
    "        print(\"---加载已有的词袋文件---\")\n",
    "        centers = np.load(os.path.join(config.data_dir,f'Bow_{self.numOfBag}.npy'))\n",
    "        self.vocabulary = centers\n",
    "        return centers"
   ]
  },
  {
   "cell_type": "markdown",
   "metadata": {},
   "source": [
    "### 4.SPM算法对数据集进一步处理，得到最后模型训练需要的数据集"
   ]
  },
  {
   "cell_type": "code",
   "execution_count": 4,
   "metadata": {},
   "outputs": [],
   "source": [
    "class SPM():\n",
    "    \"\"\" 使用SPM算法,生成图片的特征向量,构建数据集\n",
    "\n",
    "    Attributes:\n",
    "        image_set: 图片信息的集合。\n",
    "        centers: 聚类中心也就是词汇表。\n",
    "    \"\"\"\n",
    "    def __init__(self,image_set,centers) -> None:\n",
    "        self.image_set=image_set\n",
    "        self.centers=centers\n",
    "        self.numOfBag=len(self.centers)\n",
    "    def single_compute_histogram(self, features, keypoints, image):\n",
    "        '''统计不同尺度下图像的特征直方图,并合并\n",
    "        '''\n",
    "        histogram_16 = np.zeros((16, self.numOfBag))\n",
    "        histogram_4 = np.zeros((4, self.numOfBag))\n",
    "        histogram_1 = np.zeros((1, self.numOfBag))\n",
    "        #len() 函数计算一个二维数组（或任何序列的序列，例如列表的列表）时，它返回的是最外层序列的长度，也就是二维数组的行数\n",
    "        #len(features)=len(keypoints)\n",
    "        for i in range(len(keypoints)):\n",
    "            feature = features[i]\n",
    "            keypoint = keypoints[i]\n",
    "            x, y = keypoint.pt\n",
    "            block_id = int(4 * x//image.shape[1] + (4 * y//image.shape[0]) * 4)\n",
    "            #维度问题会广播\n",
    "            #这里的feature是一行特征点向量，判断每一个特征点向量距离哪个视觉词汇最近\n",
    "            dis=np.sum((feature-self.centers)**2,axis=1)\n",
    "            index=np.argmin(dis)\n",
    "            #第二维是词汇表的大小，numofbag\n",
    "            histogram_16[block_id][index]+=1\n",
    "        histogram_4[0] = histogram_16[0] + histogram_16[1] + histogram_16[4] + histogram_16[5]\n",
    "        histogram_4[1] = histogram_16[2] + histogram_16[3] + histogram_16[6] + histogram_16[7]\n",
    "        histogram_4[2] = histogram_16[8] + histogram_16[9] + histogram_16[12] + histogram_16[13]\n",
    "        histogram_4[3] = histogram_16[10] + histogram_16[11] + histogram_16[14] + histogram_16[15]\n",
    "        for i in range(4):\n",
    "            histogram_1[0] += histogram_4[i]\n",
    "        #将不同尺度下的特征图合并 (1+4+16)*numOfBag,这是一张图片的特征向量表示\n",
    "        C1, C2, C3=0.25, 0.25, 0.5\n",
    "        result = np.float32([]).reshape(0, self.numOfBag)\n",
    "        result = np.append(result, histogram_1 * C1, axis=0)\n",
    "        result = np.append(result, histogram_4 * C2, axis=0)\n",
    "        result = np.append(result, histogram_16 * C3, axis=0)\n",
    "        return result\n",
    "    \n",
    "    def generate_dataset(self):\n",
    "        \"\"\"生成图片特征向量数据集\n",
    "        \"\"\"\n",
    "        #len(self.centers)==numOfBag\n",
    "        #特征向量shape为[21,numOfBag],将其展开存，每行存一张图片的特征\n",
    "        print('---生成数据集的特征向量---')\n",
    "        dataset=np.float32([]).reshape(0,self.numOfBag*21)\n",
    "        labels=[]\n",
    "        for item in self.image_set:\n",
    "            labels.append(item.label)\n",
    "            vec=self.single_compute_histogram(item.descriptors, item.keypoints, item.image)\n",
    "            #flatten会有不必要的复制。ravel后只是一维向量，还有reshape成二维\n",
    "            vec=vec.ravel().reshape(-1,21*self.numOfBag)\n",
    "            dataset=np.append(dataset,vec,axis=0)\n",
    "        return dataset,labels\n"
   ]
  },
  {
   "cell_type": "markdown",
   "metadata": {},
   "source": [
    "## 图片分类模块\n",
    "### 模型训练与结果预测评估"
   ]
  },
  {
   "cell_type": "code",
   "execution_count": 5,
   "metadata": {},
   "outputs": [],
   "source": [
    "from sklearn.svm import SVC\n",
    "from sklearn.metrics import confusion_matrix\n",
    "from sklearn import metrics\n",
    "import matplotlib.pyplot as plt\n",
    "def train(dataset,labels,config):\n",
    "    print(\"---模型训练---\")\n",
    "    svc=SVC(kernel=config.kernel, C=config.C, gamma=config.gamma, decision_function_shape='ovo')\n",
    "    svc.fit(dataset,labels)\n",
    "    return svc\n",
    "def single_predict(data,model):\n",
    "    \"\"\"预测单独一张图片的结果\n",
    "    \"\"\"\n",
    "    data=data.reshape(1,-1)\n",
    "    prediction = model.predict(data)\n",
    "    return prediction\n",
    "def predict(dataset,model):\n",
    "    \"\"\"预测数据集的结果\n",
    "    \"\"\"\n",
    "    prediction = model.predict(dataset)\n",
    "    return prediction\n",
    "def evaluate(true_labels, prediction, target_names):\n",
    "    '''评估模型预测结果,生成分类报告和混淆矩阵\n",
    "    '''\n",
    "    report = metrics.classification_report(true_labels, prediction, target_names=target_names)\n",
    "    confuse_matrix = confusion_matrix(true_labels, prediction)\n",
    "    return report, confuse_matrix\n",
    "def plot_matrix(cm,classes,path):\n",
    "    \"\"\"可视化混淆矩阵\n",
    "    \"\"\"\n",
    "    #转成浮点数\n",
    "    cm=cm.astype(np.float32)\n",
    "    #计算每个真实类别的样本数\n",
    "    s=np.sum(cm,axis=1).astype(np.float32)  #[15,]\n",
    "    s=s.reshape(-1,1)\n",
    "    cm=cm/s*100\n",
    "    fig=plt.figure()\n",
    "    sub = fig.add_subplot(111)\n",
    "    color = sub.matshow(cm)\n",
    "    fig.colorbar(color)\n",
    "    for i in range(len(cm)):\n",
    "        sub.text(i,i,format(cm[i][i],'.2f'),va='center',ha='center',fontsize=6)\n",
    "    sub.set_xticks(range(len(classes)))\n",
    "    sub.set_yticks(range(len(classes)))\n",
    "    sub.set_xticklabels(classes, rotation=90)\n",
    "    sub.set_yticklabels(classes)\n",
    "    sub.set_xlabel('Predicted labels')\n",
    "    sub.set_ylabel('True labels')\n",
    "    plt.savefig(path)\n",
    "    plt.show()\n",
    "   "
   ]
  },
  {
   "cell_type": "markdown",
   "metadata": {},
   "source": [
    "## 主函数模块"
   ]
  },
  {
   "cell_type": "markdown",
   "metadata": {},
   "source": [
    "Notice：运行程序之前，请先配置好config。\n",
    "1. 确认相关路径的正确性。\n",
    "2. 设置超参数值\n",
    "3. 根据data目录中是否存好了数据判断True or False"
   ]
  },
  {
   "cell_type": "code",
   "execution_count": 6,
   "metadata": {},
   "outputs": [
    {
     "name": "stdout",
     "output_type": "stream",
     "text": [
      "---加载已有的词袋文件---\n",
      "---直接加载数据集的特征向量---\n",
      "---开始训练---\n",
      "---模型训练---\n"
     ]
    }
   ],
   "source": [
    "config=Namespace(\n",
    "    image_dir=\"15-Scene\",\n",
    "    data_dir=\"data\",\n",
    "    numOfBag=300,\n",
    "    C=10,\n",
    "    gamma=0.001,\n",
    "    kernel='linear',\n",
    "    categories=['Bedroom','Suburb','Industrial','Kitchen','Living room','Coast','Forest','Highway'\n",
    "                ,'Inside city','Mountain','Open country','Street','Tall Building','Office','Store'],\n",
    "    sign=True~ #判断是否需要处理数据集\n",
    ")\n",
    "\n",
    "if not os.path.exists(config.data_dir):\n",
    "    os.mkdir(config.data_dir)\n",
    "\n",
    "#如果数据集需要处理或者没有feature_set.npy文件，需要重新计算\n",
    "#多加的判断是防止数据集处理过了，但是feature_set文件丢失\n",
    "if config.sign or not os.path.exists(os.path.join(config.data_dir,'feature_set.npy')):\n",
    "    train_image,test_image=load_data(config)\n",
    "    print(len(train_image))\n",
    "    print(len(test_image))\n",
    "feature_set=np.load(os.path.join(config.data_dir,'feature_set.npy'))\n",
    "vocab=Bow(feature_set, config.numOfBag)\n",
    "if os.path.exists(os.path.join(config.data_dir,f'Bow_{vocab.numOfBag}.npy')):\n",
    "    centers=vocab.getBow(config)\n",
    "else:\n",
    "    centers=vocab.generateBoW(config)\n",
    "if config.sign:  \n",
    "    train_spm=SPM(train_image,centers)\n",
    "    test_spm=SPM(test_image,centers)\n",
    "    train_set,train_labels=train_spm.generate_dataset()\n",
    "    test_set,test_labels=test_spm.generate_dataset()\n",
    "    np.save(os.path.join(config.data_dir,f\"train_set_{vocab.numOfBag}.npy\"), train_set)\n",
    "    np.save(os.path.join(config.data_dir,f\"train_labels_{vocab.numOfBag}.npy\"), train_labels)\n",
    "    np.save(os.path.join(config.data_dir,f\"test_set_{vocab.numOfBag}.npy\"), test_set)\n",
    "    np.save(os.path.join(config.data_dir,f\"test_labels_{vocab.numOfBag}.npy\"), test_labels)\n",
    "else:\n",
    "    print('---直接加载数据集的特征向量---')  \n",
    "    train_set = np.load(os.path.join(config.data_dir,f\"train_set_{vocab.numOfBag}.npy\"))\n",
    "    train_labels = np.load(os.path.join(config.data_dir,f\"train_labels_{vocab.numOfBag}.npy\"))\n",
    "    test_set = np.load(os.path.join(config.data_dir,f\"test_set_{vocab.numOfBag}.npy\"))\n",
    "    test_labels = np.load(os.path.join(config.data_dir,f\"test_labels_{vocab.numOfBag}.npy\"))\n",
    "print(\"---开始训练---\")\n",
    "model=train(train_set,train_labels,config)\n",
    "train_result=predict(train_set,model)\n",
    "test_result=predict(test_set,model)\n",
    "train_report, _ = evaluate(train_labels,train_result, config.categories)\n",
    "test_report, cm = evaluate(test_labels,test_result, config.categories)"
   ]
  },
  {
   "cell_type": "code",
   "execution_count": 7,
   "metadata": {},
   "outputs": [
    {
     "name": "stdout",
     "output_type": "stream",
     "text": [
      "训练集分类结果：\n",
      "               precision    recall  f1-score   support\n",
      "\n",
      "      Bedroom       1.00      1.00      1.00       150\n",
      "       Suburb       1.00      1.00      1.00       150\n",
      "   Industrial       1.00      1.00      1.00       150\n",
      "      Kitchen       1.00      1.00      1.00       150\n",
      "  Living room       1.00      1.00      1.00       150\n",
      "        Coast       1.00      1.00      1.00       150\n",
      "       Forest       1.00      1.00      1.00       150\n",
      "      Highway       1.00      1.00      1.00       150\n",
      "  Inside city       1.00      1.00      1.00       150\n",
      "     Mountain       1.00      1.00      1.00       150\n",
      " Open country       1.00      1.00      1.00       150\n",
      "       Street       1.00      1.00      1.00       150\n",
      "Tall Building       1.00      1.00      1.00       150\n",
      "       Office       1.00      1.00      1.00       150\n",
      "        Store       1.00      1.00      1.00       150\n",
      "\n",
      "     accuracy                           1.00      2250\n",
      "    macro avg       1.00      1.00      1.00      2250\n",
      " weighted avg       1.00      1.00      1.00      2250\n",
      "\n"
     ]
    }
   ],
   "source": [
    "print(\"训练集分类结果：\")\n",
    "print(train_report)"
   ]
  },
  {
   "cell_type": "code",
   "execution_count": 8,
   "metadata": {},
   "outputs": [
    {
     "name": "stdout",
     "output_type": "stream",
     "text": [
      "测试集分类结果：\n",
      "               precision    recall  f1-score   support\n",
      "\n",
      "      Bedroom       0.29      0.48      0.36        66\n",
      "       Suburb       0.80      0.90      0.85        91\n",
      "   Industrial       0.46      0.39      0.42       161\n",
      "      Kitchen       0.30      0.47      0.37        60\n",
      "  Living room       0.57      0.50      0.53       139\n",
      "        Coast       0.60      0.80      0.69       210\n",
      "       Forest       0.82      0.92      0.87       178\n",
      "      Highway       0.63      0.63      0.63       110\n",
      "  Inside city       0.66      0.54      0.59       158\n",
      "     Mountain       0.66      0.71      0.69       224\n",
      " Open country       0.63      0.45      0.52       260\n",
      "       Street       0.63      0.77      0.69       142\n",
      "Tall Building       0.83      0.56      0.67       206\n",
      "       Office       0.58      0.45      0.50        65\n",
      "        Store       0.66      0.66      0.66       165\n",
      "\n",
      "     accuracy                           0.63      2235\n",
      "    macro avg       0.61      0.61      0.60      2235\n",
      " weighted avg       0.64      0.63      0.62      2235\n",
      "\n"
     ]
    }
   ],
   "source": [
    "print(\"测试集分类结果：\")\n",
    "print(test_report)"
   ]
  },
  {
   "cell_type": "code",
   "execution_count": 9,
   "metadata": {},
   "outputs": [
    {
     "data": {
      "image/png": "[encoded data removed]",
      "text/plain": [
       "<Figure size 640x480 with 2 Axes>"
      ]
     },
     "metadata": {},
     "output_type": "display_data"
    }
   ],
   "source": [
    "plot_matrix(cm,config.categories,'linear.png')"
   ]
  },
  {
   "cell_type": "code",
   "execution_count": 10,
   "metadata": {},
   "outputs": [
    {
     "name": "stdout",
     "output_type": "stream",
     "text": [
      "6300\n",
      "5728\n"
     ]
    }
   ],
   "source": [
    "x=train_set[0]\n",
    "print(len(x))\n",
    "print(list(x).count(0))"
   ]
  }
 ],
 "metadata": {
  "kernelspec": {
   "display_name": "env2",
   "language": "python",
   "name": "python3"
  },
  "language_info": {
   "codemirror_mode": {
    "name": "ipython",
    "version": 3
   },
   "file_extension": ".py",
   "mimetype": "text/x-python",
   "name": "python",
   "nbconvert_exporter": "python",
   "pygments_lexer": "ipython3",
   "version": "3.9.18"
  }
 },
 "nbformat": 4,
 "nbformat_minor": 2
}
